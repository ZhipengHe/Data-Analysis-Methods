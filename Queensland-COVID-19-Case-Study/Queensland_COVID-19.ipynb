{
 "cells": [
  {
   "cell_type": "markdown",
   "metadata": {},
   "source": [
    "# Queensland COVID-19 statistics\n",
    "\n",
    "The COVID-19 data comes from [Queensland Government](https://www.qld.gov.au/health/conditions/health-alerts/coronavirus-covid-19/current-status/statistics)"
   ]
  },
  {
   "cell_type": "code",
   "execution_count": null,
   "metadata": {},
   "outputs": [],
   "source": [
    "import pandas as pd\n",
    "import requests\n",
    "import re\n",
    "from lxml import html\n",
    "import time\n",
    "import matplotlib.pyplot as plt\n",
    "from IPython.core.display import display, HTML"
   ]
  },
  {
   "cell_type": "code",
   "execution_count": null,
   "metadata": {
    "tags": []
   },
   "outputs": [],
   "source": [
    "# set statistic page url\n",
    "url = 'https://www.qld.gov.au/health/conditions/health-alerts/coronavirus-covid-19/current-status/statistics'\n",
    "\n",
    "# use pandas.read_html to read tables from html\n",
    "data = pd.read_html(url)\n",
    "# Show the number of tables\n",
    "print(f'Extracted {len(data)} table/s')"
   ]
  },
  {
   "cell_type": "code",
   "execution_count": null,
   "metadata": {},
   "outputs": [],
   "source": [
    "# Case summary\n",
    "data[0]"
   ]
  },
  {
   "cell_type": "code",
   "execution_count": null,
   "metadata": {},
   "outputs": [],
   "source": [
    "# Cases by Hospital and Health Service\n",
    "data[1]"
   ]
  },
  {
   "cell_type": "code",
   "execution_count": null,
   "metadata": {},
   "outputs": [],
   "source": [
    "# Likely source of infection\n",
    "data[2]"
   ]
  },
  {
   "cell_type": "code",
   "execution_count": null,
   "metadata": {},
   "outputs": [],
   "source": [
    "# Cases by Local Government Area and likely source of infection\n",
    "# C = Council, RC = Regional Council, S = Shire\n",
    "data[3]"
   ]
  },
  {
   "cell_type": "code",
   "execution_count": null,
   "metadata": {},
   "outputs": [],
   "source": [
    "# Age and gender of cases\n",
    "data[4]"
   ]
  },
  {
   "cell_type": "code",
   "execution_count": null,
   "metadata": {},
   "outputs": [],
   "source": [
    "# Testing number\n",
    "data[5]"
   ]
  },
  {
   "cell_type": "code",
   "execution_count": null,
   "metadata": {},
   "outputs": [],
   "source": [
    "# Self-quarantine notices - Queensland\n",
    "data[6]"
   ]
  },
  {
   "cell_type": "code",
   "execution_count": null,
   "metadata": {},
   "outputs": [],
   "source": [
    "# Self-quarantine notices\n",
    "data[7]"
   ]
  },
  {
   "cell_type": "markdown",
   "metadata": {},
   "source": [
    "**The method of getting total cases of each day can only use before 31/12/2020**"
   ]
  },
  {
   "cell_type": "code",
   "execution_count": null,
   "metadata": {},
   "outputs": [],
   "source": [
    "# prase html and return the whole HTML file in a nice tree structure\n",
    "page=requests.get(url)\n",
    "tree = html.fromstring(page.content) "
   ]
  },
  {
   "cell_type": "code",
   "execution_count": null,
   "metadata": {
    "tags": []
   },
   "outputs": [],
   "source": [
    "# get total cases by day html file in text\n",
    "totalCases = tree.xpath('//*[@id=\"qg-primary-content\"]/script[1]/text()')\n",
    "\n",
    "# show the html file in text\n",
    "print(totalCases)"
   ]
  },
  {
   "cell_type": "code",
   "execution_count": null,
   "metadata": {
    "scrolled": true,
    "tags": []
   },
   "outputs": [],
   "source": [
    "# clean the list of total cases\n",
    "totalCases = totalCases[0].split(\"\\r\\n\")\n",
    "\n",
    "# find date and numbers in the list and put them in a DataFrame\n",
    "date = re.findall(r\"[0-9]+\\s[A-z]+\",totalCases[2]) \n",
    "numbers = re.findall(r'[0-9]+', totalCases[3])\n",
    "case_by_day = pd.DataFrame(date, columns =['Date'])\n",
    "case_by_day['Number'] = numbers"
   ]
  },
  {
   "cell_type": "code",
   "execution_count": null,
   "metadata": {
    "tags": []
   },
   "outputs": [],
   "source": [
    "# show the info of total cases DataFrame\n",
    "case_by_day.info()"
   ]
  },
  {
   "cell_type": "code",
   "execution_count": null,
   "metadata": {
    "tags": []
   },
   "outputs": [],
   "source": [
    "# add a new column to store DateTime\n",
    "case_by_day[\"DateTime\"] = case_by_day[\"Date\"].apply(lambda x: time.strptime(\"2020 \"+x, \"%Y %d %b\"))\n",
    "\n",
    "# covert Number from object to int64\n",
    "case_by_day['Number'] = case_by_day['Number'].astype(object).astype(int)\n",
    "case_by_day.info()"
   ]
  },
  {
   "cell_type": "code",
   "execution_count": null,
   "metadata": {},
   "outputs": [],
   "source": [
    "# plot bar chart\n",
    "fig = plt.figure(figsize=(28,10))\n",
    "ax = plt.gca()\n",
    "ax.spines['top'].set_visible(False)\n",
    "ax.spines['right'].set_visible(False)\n",
    "dates = case_by_day['Date']\n",
    "cases = case_by_day['Number']\n",
    "plt.bar(dates, cases)\n",
    "plt.title('Daily Confirmed covid-19 cases in Queensland', fontsize=30)\n",
    "plt.ylabel('Number of confirmeed covid-19 cases', fontsize=24)\n",
    "plt.xticks(ticks= range(0, len(case_by_day['Date']), 3), rotation=90, fontsize = 14)\n",
    "plt.yticks(fontsize = 18)\n",
    "plt.yscale(\"linear\")\n",
    "plt.show()"
   ]
  },
  {
   "cell_type": "code",
   "execution_count": null,
   "metadata": {},
   "outputs": [],
   "source": [
    "# plot line cahrt\n",
    "fig = plt.figure(figsize=(28,10))\n",
    "ax = plt.gca()\n",
    "ax.spines['top'].set_visible(False)\n",
    "ax.spines['right'].set_visible(False)\n",
    "dates = case_by_day['Date']\n",
    "cases = case_by_day['Number']\n",
    "plt.plot(dates, cases, marker = '.')\n",
    "plt.title('Daily Confirmed covid-19 cases in Queensland', fontsize=30)\n",
    "plt.ylabel('Number of confirmeed covid-19 cases', fontsize=24)\n",
    "plt.xticks(ticks= range(0, len(case_by_day['Date']), 3), rotation=90, fontsize = 14)\n",
    "plt.yticks(fontsize = 18)\n",
    "plt.yscale('linear')\n",
    "plt.show()"
   ]
  },
  {
   "cell_type": "code",
   "execution_count": null,
   "metadata": {},
   "outputs": [],
   "source": []
  }
 ],
 "metadata": {
  "kernelspec": {
   "display_name": "Python 3",
   "language": "python",
   "name": "python3"
  },
  "language_info": {
   "codemirror_mode": {
    "name": "ipython",
    "version": 3
   },
   "file_extension": ".py",
   "mimetype": "text/x-python",
   "name": "python",
   "nbconvert_exporter": "python",
   "pygments_lexer": "ipython3",
   "version": "3.8.5-final"
  }
 },
 "nbformat": 4,
 "nbformat_minor": 4
}